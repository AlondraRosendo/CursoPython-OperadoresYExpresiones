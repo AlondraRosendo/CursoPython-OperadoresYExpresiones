{
 "cells": [
  {
   "cell_type": "markdown",
   "id": "75d60925",
   "metadata": {},
   "source": [
    "# Expresiones Anidadas\n",
    "Se pueden solucionar empleando las reglas de presedencia:\n",
    "1. Primero los parentesis porque tienen prioridad.\n",
    "2. Segundo, las expresiones aritméticas por su propias reglas.\n",
    "3. Tercero, las expresiones relacionales.\n",
    "4. Cuarto, las expresiones lógicas."
   ]
  },
  {
   "cell_type": "code",
   "execution_count": 1,
   "id": "6adb9e37",
   "metadata": {},
   "outputs": [
    {
     "data": {
      "text/plain": [
       "False"
      ]
     },
     "execution_count": 1,
     "metadata": {},
     "output_type": "execute_result"
    }
   ],
   "source": [
    "a = 10\n",
    "b = 5\n",
    "a * b - 2**b >= 20 and not (a % b) != 0"
   ]
  },
  {
   "cell_type": "code",
   "execution_count": null,
   "id": "9a61e240",
   "metadata": {},
   "outputs": [],
   "source": []
  }
 ],
 "metadata": {
  "kernelspec": {
   "display_name": "Python 3 (ipykernel)",
   "language": "python",
   "name": "python3"
  },
  "language_info": {
   "codemirror_mode": {
    "name": "ipython",
    "version": 3
   },
   "file_extension": ".py",
   "mimetype": "text/x-python",
   "name": "python",
   "nbconvert_exporter": "python",
   "pygments_lexer": "ipython3",
   "version": "3.10.9"
  }
 },
 "nbformat": 4,
 "nbformat_minor": 5
}
