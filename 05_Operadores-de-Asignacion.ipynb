{
 "cells": [
  {
   "cell_type": "markdown",
   "id": "35885d1d",
   "metadata": {},
   "source": [
    "# Operadores de Asignación\n",
    "Actúan directamente sobre la variable actual modificando su valor"
   ]
  },
  {
   "cell_type": "code",
   "execution_count": null,
   "id": "1ffa0c66",
   "metadata": {},
   "outputs": [],
   "source": [
    "a = 0"
   ]
  },
  {
   "cell_type": "code",
   "execution_count": null,
   "id": "0b6a23dc",
   "metadata": {},
   "outputs": [],
   "source": [
    "a += 5 #Suma y asigna"
   ]
  },
  {
   "cell_type": "code",
   "execution_count": null,
   "id": "23969dd2",
   "metadata": {},
   "outputs": [],
   "source": [
    "a"
   ]
  },
  {
   "cell_type": "code",
   "execution_count": null,
   "id": "caca31b0",
   "metadata": {},
   "outputs": [],
   "source": [
    "a -= 10 #Resta y asigna\n",
    "a"
   ]
  },
  {
   "cell_type": "code",
   "execution_count": 1,
   "id": "dabe6322",
   "metadata": {},
   "outputs": [
    {
     "data": {
      "text/plain": [
       "10"
      ]
     },
     "execution_count": 1,
     "metadata": {},
     "output_type": "execute_result"
    }
   ],
   "source": [
    "a = 5\n",
    "a *= 2 # Multiplica y asigna\n",
    "a"
   ]
  },
  {
   "cell_type": "code",
   "execution_count": 2,
   "id": "d46f69d5",
   "metadata": {},
   "outputs": [
    {
     "data": {
      "text/plain": [
       "5.0"
      ]
     },
     "execution_count": 2,
     "metadata": {},
     "output_type": "execute_result"
    }
   ],
   "source": [
    "a /= 2 #Divide y asigna\n",
    "a"
   ]
  },
  {
   "cell_type": "code",
   "execution_count": 3,
   "id": "068c8135",
   "metadata": {},
   "outputs": [
    {
     "data": {
      "text/plain": [
       "1.0"
      ]
     },
     "execution_count": 3,
     "metadata": {},
     "output_type": "execute_result"
    }
   ],
   "source": [
    "a %= 2 # Módulo y asigna\n",
    "a"
   ]
  },
  {
   "cell_type": "code",
   "execution_count": 4,
   "id": "53e6f6fb",
   "metadata": {},
   "outputs": [
    {
     "data": {
      "text/plain": [
       "1.0"
      ]
     },
     "execution_count": 4,
     "metadata": {},
     "output_type": "execute_result"
    }
   ],
   "source": [
    "a **= 10 #Potencia y asigna\n",
    "a"
   ]
  },
  {
   "cell_type": "code",
   "execution_count": 5,
   "id": "14d9bd94",
   "metadata": {},
   "outputs": [
    {
     "data": {
      "text/plain": [
       "3125"
      ]
     },
     "execution_count": 5,
     "metadata": {},
     "output_type": "execute_result"
    }
   ],
   "source": [
    "a = 5\n",
    "a **= 5\n",
    "a"
   ]
  },
  {
   "cell_type": "markdown",
   "id": "e2a72274",
   "metadata": {},
   "source": [
    "## Repaso de un ejemplo de cabecera\n",
    "¿ Qué expresiones eres capaz de identificar?"
   ]
  },
  {
   "cell_type": "code",
   "execution_count": 6,
   "id": "1ab81cdf",
   "metadata": {},
   "outputs": [
    {
     "name": "stdout",
     "output_type": "stream",
     "text": [
      "0 es un numero par\n",
      "1 es un numero impar\n",
      "2 es un numero par\n",
      "3 es un numero impar\n",
      "4 es un numero par\n",
      "5 es un numero impar\n",
      "6 es un numero par\n",
      "7 es un numero impar\n",
      "8 es un numero par\n",
      "9 es un numero impar\n"
     ]
    }
   ],
   "source": [
    "n=0 #Asignacion de 0 en n\n",
    "while n<10:  # while = mientras   Expresión relacional n < 10, que devuelve true\n",
    "    if(n % 2) == 0:  #if = si(de condicion)   Expresión aritmetica y expresión relacional\n",
    "        print(n, 'es un numero par')\n",
    "    else:  # else = sino (de condicion)\n",
    "        print(n,'es un numero impar')\n",
    "    n = n + 1  #Expresión aritmética n = n + 1 equivale a operación en asignación"
   ]
  },
  {
   "cell_type": "code",
   "execution_count": null,
   "id": "d423b3ec",
   "metadata": {},
   "outputs": [],
   "source": []
  }
 ],
 "metadata": {
  "kernelspec": {
   "display_name": "Python 3 (ipykernel)",
   "language": "python",
   "name": "python3"
  },
  "language_info": {
   "codemirror_mode": {
    "name": "ipython",
    "version": 3
   },
   "file_extension": ".py",
   "mimetype": "text/x-python",
   "name": "python",
   "nbconvert_exporter": "python",
   "pygments_lexer": "ipython3",
   "version": "3.10.9"
  }
 },
 "nbformat": 4,
 "nbformat_minor": 5
}
